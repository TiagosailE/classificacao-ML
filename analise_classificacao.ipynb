{
 "cells": [
  {
   "cell_type": "code",
   "execution_count": null,
   "id": "422cadc6-3050-456a-a741-0e7b3c3f78b8",
   "metadata": {},
   "outputs": [],
   "source": [
    "# Importar bibliotecas\n",
    "import pandas as pd\n",
    "from sklearn.datasets import load_breast_cancer\n",
    "from sklearn.model_selection import train_test_split\n",
    "\n",
    "# 1. Carregar dataset\n",
    "data = load_breast_cancer()\n",
    "df = pd.DataFrame(data.data, columns=data.feature_names)\n",
    "df['target'] = data.target\n",
    "\n",
    "# 2. Exploração inicial\n",
    "print(\"Dimensões do dataset:\", df.shape)\n",
    "print(\"\\nPrimeiras linhas:\")\n",
    "display(df.head())\n",
    "\n",
    "print(\"\\nInformações do dataset:\")\n",
    "print(df.info())\n",
    "\n",
    "print(\"\\nResumo estatístico:\")\n",
    "display(df.describe())\n",
    "\n",
    "# 3. Separar variáveis\n",
    "X = df.drop(columns=['target'])\n",
    "y = df['target']\n",
    "\n",
    "# 4. Dividir em treino e teste\n",
    "X_train, X_test, y_train, y_test = train_test_split(\n",
    "    X, y, test_size=0.3, random_state=42, stratify=y\n",
    ")\n",
    "\n",
    "print(\"\\nTamanho treino:\", X_train.shape)\n",
    "print(\"Tamanho teste:\", X_test.shape)\n"
   ]
  }
 ],
 "metadata": {
  "kernelspec": {
   "display_name": "Python (venv)",
   "language": "python",
   "name": "venv"
  },
  "language_info": {
   "codemirror_mode": {
    "name": "ipython",
    "version": 3
   },
   "file_extension": ".py",
   "mimetype": "text/x-python",
   "name": "python",
   "nbconvert_exporter": "python",
   "pygments_lexer": "ipython3",
   "version": "3.11.9"
  }
 },
 "nbformat": 4,
 "nbformat_minor": 5
}
